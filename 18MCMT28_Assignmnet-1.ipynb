{
 "cells": [
  {
   "cell_type": "markdown",
   "metadata": {},
   "source": [
    "# Assignment 1\n",
    "\n",
    "K. Sai Somanath, 18MCMT28"
   ]
  },
  {
   "cell_type": "code",
   "execution_count": 1,
   "metadata": {},
   "outputs": [],
   "source": [
    "import numpy as np"
   ]
  },
  {
   "cell_type": "markdown",
   "metadata": {},
   "source": [
    "### Generating random samples from a normal distribution"
   ]
  },
  {
   "cell_type": "code",
   "execution_count": 2,
   "metadata": {},
   "outputs": [],
   "source": [
    "def genNormalSamples(number_of_samples, mean, cov):\n",
    "    return np.random.multivariate_normal(mean, cov, number_of_samples).T"
   ]
  },
  {
   "cell_type": "markdown",
   "metadata": {},
   "source": [
    "### The Euclidean distance between two points"
   ]
  },
  {
   "cell_type": "code",
   "execution_count": 3,
   "metadata": {},
   "outputs": [],
   "source": [
    "def euclidean_dist(x, y):\n",
    "    sub = x - y\n",
    "    return numpy.sqrt(numpy.einsum('ij,ij->i', sub, sub))"
   ]
  },
  {
   "cell_type": "markdown",
   "metadata": {},
   "source": [
    "### The Mahalanobis Distance"
   ]
  },
  {
   "cell_type": "code",
   "execution_count": 4,
   "metadata": {},
   "outputs": [],
   "source": [
    "def inverse(a):\n",
    "    if not a.shape:\n",
    "        return a\n",
    "    else:\n",
    "        return np.linalg.inv(a)"
   ]
  },
  {
   "cell_type": "code",
   "execution_count": 5,
   "metadata": {},
   "outputs": [],
   "source": [
    "def norm(temp, cov_inv):\n",
    "    if not temp.shape:\n",
    "        # print('here')\n",
    "        return np.sqrt(temp ** 2 * cov_inv)\n",
    "    else:\n",
    "        # print('Shape:', np.dot(np.dot(temp.T,cov_inv),temp).shape)\n",
    "        return np.sqrt(np.dot(np.dot(temp.T,cov_inv),temp))"
   ]
  },
  {
   "cell_type": "code",
   "execution_count": 6,
   "metadata": {},
   "outputs": [],
   "source": [
    "def mahalanobis_dist(x, mu, cov):\n",
    "    cov_inv = inverse(cov)\n",
    "    temp = x - mu\n",
    "    # print(norm(temp, cov_inv))\n",
    "    return norm(temp, cov_inv)"
   ]
  },
  {
   "cell_type": "markdown",
   "metadata": {},
   "source": [
    "### The Discriminent function"
   ]
  },
  {
   "cell_type": "code",
   "execution_count": 7,
   "metadata": {},
   "outputs": [],
   "source": [
    "def det(mat):\n",
    "    if not mat.shape:\n",
    "        return mat\n",
    "    else:\n",
    "        return np.linalg.det(mat)"
   ]
  },
  {
   "cell_type": "code",
   "execution_count": 8,
   "metadata": {},
   "outputs": [],
   "source": [
    "def disc_function(x, mu, cov, d, p_w):\n",
    "    mahala_dist = mahalanobis_dist(x, mu, cov)\n",
    "    return -((0.5) * mahala_dist) - ((d / 2) * np.log(np.pi * 2)) - (0.5 * np.log(det(cov))) + np.log(p_w)"
   ]
  },
  {
   "cell_type": "code",
   "execution_count": 9,
   "metadata": {},
   "outputs": [],
   "source": [
    "data = np.genfromtxt('data_dhs_chap2.csv', delimiter=',', skip_header=1)"
   ]
  },
  {
   "cell_type": "code",
   "execution_count": 10,
   "metadata": {},
   "outputs": [
    {
     "data": {
      "text/plain": [
       "(30, 4)"
      ]
     },
     "execution_count": 10,
     "metadata": {},
     "output_type": "execute_result"
    }
   ],
   "source": [
    "data.shape"
   ]
  },
  {
   "cell_type": "markdown",
   "metadata": {},
   "source": [
    "## Dichotomizer - Univariate"
   ]
  },
  {
   "cell_type": "code",
   "execution_count": 11,
   "metadata": {},
   "outputs": [
    {
     "data": {
      "text/plain": [
       "[0, 0, 0, 0, 0, 1, 0, 0, 0, 0]"
      ]
     },
     "execution_count": 11,
     "metadata": {},
     "output_type": "execute_result"
    }
   ],
   "source": [
    "# Get class data\n",
    "x_samples = data[:5, :1]\n",
    "y_samples = data[10:15, :1]\n",
    "samples = np.concatenate((x_samples, y_samples))\n",
    "\n",
    "# Generate traget values\n",
    "targets = [0] * 5 + [1] * 5\n",
    "predicted = []\n",
    "\n",
    "# Mean and covariace\n",
    "mu1 = np.mean(x_samples, axis=0)\n",
    "cov1 = np.cov(x_samples.T)\n",
    "mu2 = np.mean(y_samples, axis=0)\n",
    "cov2 = np.cov(y_samples.T)\n",
    "\n",
    "for sample in samples:    \n",
    "    g1 = disc_function(sample, mu1, cov1, 1, 0.5)\n",
    "    g2 = disc_function(sample, mu2, cov2, 1, 0.5)\n",
    "    if g1 - g2 > 0:\n",
    "        predicted.append(0)\n",
    "    elif g1 - g2 < 0:\n",
    "        predicted.append(1)\n",
    "    else:\n",
    "        predicted.append(-1)\n",
    "    \n",
    "predicted"
   ]
  },
  {
   "cell_type": "markdown",
   "metadata": {},
   "source": [
    "### Error rate"
   ]
  },
  {
   "cell_type": "code",
   "execution_count": 12,
   "metadata": {},
   "outputs": [
    {
     "data": {
      "text/plain": [
       "0.4"
      ]
     },
     "execution_count": 12,
     "metadata": {},
     "output_type": "execute_result"
    }
   ],
   "source": [
    "(np.array(predicted) != np.array(targets)).mean()"
   ]
  },
  {
   "cell_type": "markdown",
   "metadata": {},
   "source": [
    "## Dichotomizer - Two features"
   ]
  },
  {
   "cell_type": "code",
   "execution_count": 13,
   "metadata": {},
   "outputs": [
    {
     "data": {
      "text/plain": [
       "[0, 0, 0, 0, 1, 1, 0, 0, 0, 1]"
      ]
     },
     "execution_count": 13,
     "metadata": {},
     "output_type": "execute_result"
    }
   ],
   "source": [
    "# Get class data\n",
    "x_samples = data[:5, :2]\n",
    "y_samples = data[10:15, :2]\n",
    "samples = np.concatenate((x_samples, y_samples))\n",
    "\n",
    "# Generate traget values\n",
    "targets = [0] * 5 + [1] * 5\n",
    "predicted = []\n",
    "\n",
    "# Mean and covariace\n",
    "mu1 = np.mean(x_samples, axis=0)\n",
    "cov1 = np.cov(x_samples.T)\n",
    "mu2 = np.mean(y_samples, axis=0)\n",
    "cov2 = np.cov(y_samples.T)\n",
    "\n",
    "for sample in samples:\n",
    "    g1 = disc_function(sample.reshape(2,1), mu1.reshape(2,1), cov1, 2, 0.5)\n",
    "    g2 = disc_function(sample.reshape(2,1), mu2.reshape(2,1), cov2, 2, 0.5)\n",
    "    if g1 - g2 > 0:\n",
    "        predicted.append(0)\n",
    "    elif g1 - g2 < 0:\n",
    "        predicted.append(1)\n",
    "    else:\n",
    "        predicted.append(-1)\n",
    "        \n",
    "predicted"
   ]
  },
  {
   "cell_type": "markdown",
   "metadata": {},
   "source": [
    "### Error rate"
   ]
  },
  {
   "cell_type": "code",
   "execution_count": 14,
   "metadata": {},
   "outputs": [
    {
     "data": {
      "text/plain": [
       "0.4"
      ]
     },
     "execution_count": 14,
     "metadata": {},
     "output_type": "execute_result"
    }
   ],
   "source": [
    "(np.array(predicted) != np.array(targets)).mean()"
   ]
  },
  {
   "cell_type": "markdown",
   "metadata": {},
   "source": [
    "## Dichotomizer - Three features"
   ]
  },
  {
   "cell_type": "code",
   "execution_count": 15,
   "metadata": {},
   "outputs": [
    {
     "data": {
      "text/plain": [
       "[0, 0, 0, 1, 0, 1, 1, 1, 1, 1]"
      ]
     },
     "execution_count": 15,
     "metadata": {},
     "output_type": "execute_result"
    }
   ],
   "source": [
    "# Get class data\n",
    "x_samples = data[:5, :3]\n",
    "y_samples = data[10:15, :3]\n",
    "samples = np.concatenate((x_samples, y_samples))\n",
    "\n",
    "# Generate traget values\n",
    "targets = [0] * 5 + [1] * 5\n",
    "predicted = []\n",
    "\n",
    "# Mean and covariace\n",
    "mu1 = np.mean(x_samples, axis=0)\n",
    "cov1 = np.cov(x_samples.T)\n",
    "mu2 = np.mean(y_samples, axis=0)\n",
    "cov2 = np.cov(y_samples.T)\n",
    "\n",
    "for sample in samples:\n",
    "    g1 = disc_function(sample.reshape(3,1), mu1.reshape(3,1), cov1, 3, 0.5)\n",
    "    g2 = disc_function(sample.reshape(3,1), mu2.reshape(3,1), cov2, 3, 0.5)\n",
    "    if g1 - g2 > 0:\n",
    "        predicted.append(0)\n",
    "    elif g1 - g2 < 0:\n",
    "        predicted.append(1)\n",
    "    else:\n",
    "        predicted.append(-1)\n",
    "        \n",
    "predicted"
   ]
  },
  {
   "cell_type": "markdown",
   "metadata": {},
   "source": [
    "### Error rate"
   ]
  },
  {
   "cell_type": "code",
   "execution_count": 16,
   "metadata": {},
   "outputs": [
    {
     "data": {
      "text/plain": [
       "0.1"
      ]
     },
     "execution_count": 16,
     "metadata": {},
     "output_type": "execute_result"
    }
   ],
   "source": [
    "(np.array(predicted) != np.array(targets)).mean()"
   ]
  },
  {
   "cell_type": "markdown",
   "metadata": {},
   "source": [
    "## Classifying new points into categories with uniform probabilities"
   ]
  },
  {
   "cell_type": "code",
   "execution_count": 17,
   "metadata": {},
   "outputs": [],
   "source": [
    "# Get class data\n",
    "x_samples = data[:10, :3]\n",
    "y_samples = data[10:20, :3]\n",
    "z_samples = data[20:, :3]\n",
    "\n",
    "# Mean and covariace\n",
    "mu1 = np.mean(x_samples, axis=0)\n",
    "cov1 = np.cov(x_samples.T)\n",
    "mu2 = np.mean(y_samples, axis=0)\n",
    "cov2 = np.cov(y_samples.T)\n",
    "mu3 = np.mean(z_samples, axis=0)\n",
    "cov3 = np.cov(z_samples.T)\n",
    "\n",
    "## The DFs\n",
    "g1 = disc_function(sample.reshape(3,1), mu1.reshape(3,1), cov1, 2, 0.33)\n",
    "g2 = disc_function(sample.reshape(3,1), mu2.reshape(3,1), cov2, 2, 0.33)\n",
    "g3 = disc_function(sample.reshape(3,1), mu3.reshape(3,1), cov3, 2, 0.33)\n",
    "\n",
    "# data = [(1, 2,\n",
    "# 1)\n",
    "# t\n",
    "# ; (5, 3, 2)\n",
    "# t\n",
    "# ; (0, 0, 0)\n",
    "# t\n",
    "# ; (1, 0, 0)\n",
    "# t]"
   ]
  }
 ],
 "metadata": {
  "kernelspec": {
   "display_name": "Python 3",
   "language": "python",
   "name": "python3"
  },
  "language_info": {
   "codemirror_mode": {
    "name": "ipython",
    "version": 3
   },
   "file_extension": ".py",
   "mimetype": "text/x-python",
   "name": "python",
   "nbconvert_exporter": "python",
   "pygments_lexer": "ipython3",
   "version": "3.6.4"
  }
 },
 "nbformat": 4,
 "nbformat_minor": 2
}
